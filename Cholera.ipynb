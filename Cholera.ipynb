{
 "cells": [
  {
   "cell_type": "code",
   "execution_count": 87,
   "metadata": {},
   "outputs": [],
   "source": [
    "import time\n",
    "import numpy as np\n",
    "import pandas as pd\n",
    "from sklearn import metrics\n",
    "import joblib\n",
    "import warnings\n",
    "warnings.filterwarnings('ignore')\n",
    "\n",
    "\n",
    "get_ipython().run_line_magic('matplotlib', 'inline')"
   ]
  },
  {
   "cell_type": "code",
   "execution_count": 88,
   "metadata": {},
   "outputs": [
    {
     "name": "stdout",
     "output_type": "stream",
     "text": [
      "     Age (in years)  Sex       Clinical symptoms - Profuse watery diarrhoea  \\\n",
      "0               NaN  NaN  (Rice water stools), Severe thirst and severe ...   \n",
      "1              35.0  0.0                                                  1   \n",
      "2              42.0  1.0                                                  1   \n",
      "3              29.0  1.0                                                  0   \n",
      "4              52.0  0.0                                                  0   \n",
      "5              48.0  1.0                                                  0   \n",
      "6              38.0  0.0                                                  1   \n",
      "7              24.0  0.0                                                  0   \n",
      "8              32.0  1.0                                                  1   \n",
      "9              33.0  1.0                                                  0   \n",
      "10             23.0  1.0                                                  1   \n",
      "11             35.0  0.0                                                  1   \n",
      "12             56.0  1.0                                                  1   \n",
      "13             24.0  0.0                                                  0   \n",
      "14             46.0  0.0                                                  0   \n",
      "15             31.0  1.0                                                  0   \n",
      "16             27.0  1.0                                                  1   \n",
      "17             40.0  1.0                                                  0   \n",
      "18             38.0  0.0                                                  1   \n",
      "19             23.0  1.0                                                  0   \n",
      "20             26.0  0.0                                                  1   \n",
      "21             20.0  1.0                                                  1   \n",
      "22             26.0  1.0                                                  1   \n",
      "23             30.0  0.0                                                  0   \n",
      "24             19.0  0.0                                                  0   \n",
      "25             48.0  1.0                                                  0   \n",
      "26             55.0  0.0                                                  1   \n",
      "27             57.0  0.0                                                  0   \n",
      "28             44.0  1.0                                                  1   \n",
      "29             21.0  1.0                                                  0   \n",
      "..              ...  ...                                                ...   \n",
      "281            35.0  0.0                                                  1   \n",
      "282            56.0  1.0                                                  0   \n",
      "283            24.0  0.0                                                  0   \n",
      "284            46.0  0.0                                                  0   \n",
      "285            31.0  1.0                                                  0   \n",
      "286            27.0  1.0                                                  0   \n",
      "287            40.0  1.0                                                  0   \n",
      "288            38.0  0.0                                                  1   \n",
      "289            23.0  1.0                                                  0   \n",
      "290            26.0  0.0                                                  1   \n",
      "291            20.0  1.0                                                  1   \n",
      "292            26.0  1.0                                                  1   \n",
      "293            30.0  0.0                                                  0   \n",
      "294            17.0  0.0                                                  0   \n",
      "295            48.0  1.0                                                  0   \n",
      "296            55.0  0.0                                                  0   \n",
      "297            57.0  0.0                                                  0   \n",
      "298            44.0  1.0                                                  1   \n",
      "299            21.0  1.0                                                  0   \n",
      "300            59.0  0.0                                                  1   \n",
      "301            23.0  1.0                                                  0   \n",
      "302            35.0  0.0                                                  1   \n",
      "303            56.0  1.0                                                  1   \n",
      "304            24.0  0.0                                                  1   \n",
      "305            46.0  0.0                                                  0   \n",
      "306            31.0  1.0                                                  1   \n",
      "307            27.0  1.0                                                  0   \n",
      "308            40.0  1.0                                                  0   \n",
      "309            38.0  0.0                                                  1   \n",
      "310            23.0  1.0                                                  0   \n",
      "\n",
      "    Dehydration Signs like loss of skin elasticity, sunken eyes Temperature  \\\n",
      "0                     dry and  bluish mucous membranes               in ◦F    \n",
      "1                                                    1                 97.8   \n",
      "2                                                    1                   99   \n",
      "3                                                    0                   97   \n",
      "4                                                    0                 97.6   \n",
      "5                                                    0                 98.2   \n",
      "6                                                    1                 98.5   \n",
      "7                                                    0                 99.7   \n",
      "8                                                    1                100.7   \n",
      "9                                                    0                 97.2   \n",
      "10                                                   1                 99.6   \n",
      "11                                                   1                 97.8   \n",
      "12                                                   1                   99   \n",
      "13                                                   0                   97   \n",
      "14                                                   0                 97.6   \n",
      "15                                                   0                 98.2   \n",
      "16                                                   1                 98.5   \n",
      "17                                                   0                 99.7   \n",
      "18                                                   1                100.7   \n",
      "19                                                   0                 97.2   \n",
      "20                                                   1                 99.6   \n",
      "21                                                   1                 97.8   \n",
      "22                                                   1                   99   \n",
      "23                                                   0                   97   \n",
      "24                                                   0                 97.6   \n",
      "25                                                   0                 98.2   \n",
      "26                                                   1                 98.5   \n",
      "27                                                   0                 99.7   \n",
      "28                                                   1                100.7   \n",
      "29                                                   0                 97.2   \n",
      "..                                                 ...                  ...   \n",
      "281                                                  1                 97.8   \n",
      "282                                                  0                 97.2   \n",
      "283                                                  0                   97   \n",
      "284                                                  0                 97.6   \n",
      "285                                                  0                 98.2   \n",
      "286                                                  0                 97.2   \n",
      "287                                                  0                 99.7   \n",
      "288                                                  1                100.7   \n",
      "289                                                  0                 97.2   \n",
      "290                                                  1                 99.6   \n",
      "291                                                  1                 97.8   \n",
      "292                                                  1                   99   \n",
      "293                                                  0                   97   \n",
      "294                                                  0                 97.6   \n",
      "295                                                  0                 98.2   \n",
      "296                                                  0                 97.2   \n",
      "297                                                  0                 99.7   \n",
      "298                                                  1                100.7   \n",
      "299                                                  0                 97.2   \n",
      "300                                                  1                 99.6   \n",
      "301                                                  0                   97   \n",
      "302                                                  1                  105   \n",
      "303                                                  1                  105   \n",
      "304                                                  1                  105   \n",
      "305                                                  0                 97.2   \n",
      "306                                                  1                  105   \n",
      "307                                                  0                 97.2   \n",
      "308                                                  0                 97.2   \n",
      "309                                                  1                  105   \n",
      "310                                                  0                 97.2   \n",
      "\n",
      "    Systolic Blood Pressure Diastolic Blood Pressure   heart rate   target  \n",
      "0                     MM/Hg                    MM/Hg  in beats/min     NaN  \n",
      "1                       100                       60            92     1.0  \n",
      "2                        92                       56            88     1.0  \n",
      "3                       110                       60            86     0.0  \n",
      "4                       120                       70            98     0.0  \n",
      "5                       100                       60           102     0.0  \n",
      "6                        90                       70           100     1.0  \n",
      "7                       110                       80            78     0.0  \n",
      "8                       100                       70           106     1.0  \n",
      "9                       100                       50            84     0.0  \n",
      "10                       90                       66            90     1.0  \n",
      "11                      100                       60            92     1.0  \n",
      "12                       92                       56            88     1.0  \n",
      "13                      110                       60            86     0.0  \n",
      "14                      120                       70            98     0.0  \n",
      "15                      100                       60           102     0.0  \n",
      "16                       90                       70           100     1.0  \n",
      "17                      110                       80            78     0.0  \n",
      "18                      100                       70           106     1.0  \n",
      "19                      100                       50            84     0.0  \n",
      "20                       90                       66            90     1.0  \n",
      "21                      700                       60            92     1.0  \n",
      "22                       92                       56            88     1.0  \n",
      "23                      110                       60            86     0.0  \n",
      "24                      120                       70            98     0.0  \n",
      "25                      100                       60           102     0.0  \n",
      "26                       90                       70           100     1.0  \n",
      "27                      110                       80            78     0.0  \n",
      "28                      100                       70           106     1.0  \n",
      "29                      100                       50            84     0.0  \n",
      "..                      ...                      ...           ...     ...  \n",
      "281                     100                       60            92     1.0  \n",
      "282                     100                       70            84     0.0  \n",
      "283                     110                       60            86     0.0  \n",
      "284                     120                       70            98     0.0  \n",
      "285                     100                       60           102     0.0  \n",
      "286                     100                       70            84     0.0  \n",
      "287                     110                       80            78     0.0  \n",
      "288                     100                       70           106     1.0  \n",
      "289                     100                       70            84     0.0  \n",
      "290                      90                       66            90     1.0  \n",
      "291                     100                       60            92     1.0  \n",
      "292                      92                       56            88     1.0  \n",
      "293                     110                       60            86     0.0  \n",
      "294                     120                       70            98     0.0  \n",
      "295                     100                       60           102     0.0  \n",
      "296                     100                       70            84     0.0  \n",
      "297                     110                       80            78     0.0  \n",
      "298                     100                       70           106     1.0  \n",
      "299                     100                       50            84     0.0  \n",
      "300                      90                       66            90     1.0  \n",
      "301                     110                       70            82     0.0  \n",
      "302                      92                       64            84     1.0  \n",
      "303                      92                       64            84     1.0  \n",
      "304                      92                       64            84     1.0  \n",
      "305                     100                       70            84     0.0  \n",
      "306                      92                       64            84     1.0  \n",
      "307                     100                       70            84     0.0  \n",
      "308                     100                       70            84     0.0  \n",
      "309                      92                       64            84     1.0  \n",
      "310                     100                       70            84     0.0  \n",
      "\n",
      "[311 rows x 9 columns]\n"
     ]
    }
   ],
   "source": [
    "data = pd.read_excel (r'data.xlsx')\n",
    "print (data)\n",
    "data=data.loc[2:,:]"
   ]
  },
  {
   "cell_type": "code",
   "execution_count": 89,
   "metadata": {},
   "outputs": [],
   "source": [
    "positive = data.loc[data['target']==1]\n",
    "negative = data.loc[data['target']==0]\n"
   ]
  },
  {
   "cell_type": "code",
   "execution_count": 90,
   "metadata": {},
   "outputs": [],
   "source": [
    "X = data.iloc[:,0:8]\n",
    "Y = data.iloc[:,-1]"
   ]
  },
  {
   "cell_type": "code",
   "execution_count": 91,
   "metadata": {},
   "outputs": [],
   "source": [
    "from sklearn.model_selection import train_test_split\n",
    "xtrain, xtest, ytrain, ytest = train_test_split(X, Y, test_size = 25)"
   ]
  },
  {
   "cell_type": "code",
   "execution_count": 92,
   "metadata": {},
   "outputs": [
    {
     "name": "stdout",
     "output_type": "stream",
     "text": [
      "1. Using RandomForestClassifier Method\n",
      "Accuracy - 100.0\n",
      "Recall - 1.0\n",
      "Precision Score - 1.0\n",
      "Confusion matrix\n",
      "[[12  0]\n",
      " [ 0 13]]\n",
      "\n",
      "\n"
     ]
    }
   ],
   "source": [
    "from sklearn.ensemble import RandomForestClassifier\n",
    "RFC = RandomForestClassifier()\n",
    "RFC.fit(xtrain, ytrain)\n",
    "pred_rfc = RFC.predict(xtest)\n",
    "acc_rfc = metrics.accuracy_score(ytest, pred_rfc)*100\n",
    "joblib.dump(RFC, 'model_RFC.pkl')\n",
    "\n",
    "\n",
    "print('1. Using RandomForestClassifier Method')\n",
    "print('Accuracy - {}'.format(acc_rfc))\n",
    "print('Recall - {}'.format(metrics.recall_score(ytest, pred_rfc)))\n",
    "print('Precision Score - {}'.format(metrics.precision_score(ytest, pred_rfc)))\n",
    "print('Confusion matrix')\n",
    "print(metrics.confusion_matrix(ytest, pred_rfc))\n",
    "print('\\n')\n",
    "time.sleep(1)"
   ]
  },
  {
   "cell_type": "code",
   "execution_count": 93,
   "metadata": {},
   "outputs": [
    {
     "name": "stdout",
     "output_type": "stream",
     "text": [
      "2. Using Gradient Boosting Method\n",
      "Accuracy - 100.0\n",
      "Recall - 1.0\n",
      "Precision Score - 1.0\n",
      "Confusion matrix\n",
      "[[12  0]\n",
      " [ 0 13]]\n",
      "\n",
      "\n"
     ]
    }
   ],
   "source": [
    "from sklearn.ensemble import GradientBoostingClassifier\n",
    "GB = GradientBoostingClassifier()\n",
    "GB.fit(xtrain, ytrain)\n",
    "pred_gb = GB.predict(xtest)\n",
    "acc_gb = metrics.accuracy_score(ytest, pred_gb)*100\n",
    "joblib.dump(GB, 'model_GB.pkl')\n",
    "\n",
    "\n",
    "print('2. Using Gradient Boosting Method')\n",
    "print('Accuracy - {}'.format(acc_gb))\n",
    "print('Recall - {}'.format(metrics.recall_score(ytest, pred_gb)))\n",
    "print('Precision Score - {}'.format(metrics.precision_score(ytest, pred_gb)))\n",
    "print('Confusion matrix')\n",
    "print(metrics.confusion_matrix(ytest, pred_gb))\n",
    "print('\\n')\n",
    "time.sleep(1)"
   ]
  },
  {
   "cell_type": "code",
   "execution_count": 94,
   "metadata": {},
   "outputs": [
    {
     "name": "stdout",
     "output_type": "stream",
     "text": [
      "3. Using Logistic Regression Method\n",
      "Accuracy - 100.0\n",
      "Recall - 1.0\n",
      "Precision Score - 1.0\n",
      "Confusion matrix\n",
      "[[12  0]\n",
      " [ 0 13]]\n",
      "\n",
      "\n"
     ]
    }
   ],
   "source": [
    "from sklearn.linear_model import LogisticRegression\n",
    "LR = LogisticRegression()\n",
    "LR.fit(xtrain, ytrain)\n",
    "pred_lr = LR.predict(xtest)\n",
    "acc_lr = metrics.accuracy_score(ytest, pred_lr)*100\n",
    "joblib.dump(LR, 'model.pkl')\n",
    "\n",
    "print('3. Using Logistic Regression Method')\n",
    "print('Accuracy - {}'.format(acc_lr))\n",
    "print('Recall - {}'.format(metrics.recall_score(ytest, pred_lr)))\n",
    "print('Precision Score - {}'.format(metrics.precision_score(ytest, pred_lr)))\n",
    "print('Confusion matrix')\n",
    "print(metrics.confusion_matrix(ytest, pred_lr))\n",
    "print('\\n')\n",
    "time.sleep(1)\n"
   ]
  },
  {
   "cell_type": "code",
   "execution_count": 95,
   "metadata": {},
   "outputs": [
    {
     "name": "stdout",
     "output_type": "stream",
     "text": [
      "4. Using SVM Method\n",
      "Accuracy - 100.0\n",
      "Recall - 1.0\n",
      "Precision Score - 1.0\n",
      "Confusion matrix\n",
      "[[12  0]\n",
      " [ 0 13]]\n",
      "\n",
      "\n"
     ]
    }
   ],
   "source": [
    "from sklearn import svm\n",
    "SVM = svm.LinearSVC(loss='hinge')\n",
    "SVM.fit(xtrain, ytrain)\n",
    "pred_svm = SVM.predict(xtest)\n",
    "acc_svm = metrics.accuracy_score(ytest, pred_svm)*100\n",
    "joblib.dump(SVM, 'model_SVM.pkl')\n",
    "\n",
    "print('4. Using SVM Method')\n",
    "print('Accuracy - {}'.format(acc_svm))\n",
    "print('Recall - {}'.format(metrics.recall_score(ytest, pred_svm)))\n",
    "print('Precision Score - {}'.format(metrics.precision_score(ytest, pred_svm)))\n",
    "print('Confusion matrix')\n",
    "print(metrics.confusion_matrix(ytest, pred_svm))\n",
    "print('\\n')\n",
    "time.sleep(1)\n"
   ]
  },
  {
   "cell_type": "code",
   "execution_count": 96,
   "metadata": {},
   "outputs": [
    {
     "name": "stdout",
     "output_type": "stream",
     "text": [
      "5. Using KNN Method\n",
      "Accuracy - 96.0\n",
      "Recall - 1.0\n",
      "Precision Score - 0.9285714285714286\n",
      "Confusion matrix\n",
      "[[11  1]\n",
      " [ 0 13]]\n",
      "\n",
      "\n"
     ]
    }
   ],
   "source": [
    "from sklearn.neighbors import KNeighborsClassifier\n",
    "KNN = KNeighborsClassifier(n_neighbors=15)\n",
    "KNN.fit(xtrain, ytrain)\n",
    "pred_knn = KNN.predict(xtest)\n",
    "acc_knn = metrics.accuracy_score(ytest, pred_knn)*100\n",
    "joblib.dump(KNN, 'model_KNN.pkl')\n",
    "\n",
    "\n",
    "print('5. Using KNN Method')\n",
    "print('Accuracy - {}'.format(acc_knn))\n",
    "print('Recall - {}'.format(metrics.recall_score(ytest, pred_knn)))\n",
    "print('Precision Score - {}'.format(metrics.precision_score(ytest, pred_knn)))\n",
    "print('Confusion matrix')\n",
    "print(metrics.confusion_matrix(ytest, pred_knn))\n",
    "print('\\n')\n",
    "time.sleep(1)"
   ]
  },
  {
   "cell_type": "code",
   "execution_count": 97,
   "metadata": {},
   "outputs": [
    {
     "name": "stdout",
     "output_type": "stream",
     "text": [
      "6. Using Decision Tree Method\n",
      "Accuracy - 100.0\n",
      "Recall - 1.0\n",
      "Precision Score - 1.0\n",
      "Confusion matrix\n",
      "[[12  0]\n",
      " [ 0 13]]\n",
      "\n",
      "\n"
     ]
    }
   ],
   "source": [
    "from sklearn.tree import DecisionTreeClassifier\n",
    "DT = DecisionTreeClassifier(max_depth=10, random_state=101, max_features=None, min_samples_leaf=10)\n",
    "DT.fit(xtrain, ytrain)\n",
    "pred_DT = DT.predict(xtest)\n",
    "acc_DT = metrics.accuracy_score(ytest, pred_DT)*100\n",
    "joblib.dump(DT, 'model_DT.pkl')\n",
    "\n",
    "\n",
    "print('6. Using Decision Tree Method')\n",
    "print('Accuracy - {}'.format(acc_DT))\n",
    "print('Recall - {}'.format(metrics.recall_score(ytest, pred_DT)))\n",
    "print('Precision Score - {}'.format(metrics.precision_score(ytest, pred_DT)))\n",
    "print('Confusion matrix')\n",
    "print(metrics.confusion_matrix(ytest, pred_DT))\n",
    "print('\\n')\n",
    "time.sleep(1)\n"
   ]
  },
  {
   "cell_type": "code",
   "execution_count": 98,
   "metadata": {},
   "outputs": [
    {
     "name": "stdout",
     "output_type": "stream",
     "text": [
      "8. Using MLP Method\n",
      "Accuracy - 100.0\n",
      "Recall - 1.0\n",
      "Precision Score - 1.0\n",
      "Confusion matrix\n",
      "[[12  0]\n",
      " [ 0 13]]\n",
      "\n",
      "\n"
     ]
    }
   ],
   "source": [
    "from sklearn.neural_network import MLPClassifier\n",
    "MLP = MLPClassifier(hidden_layer_sizes=(15,4,1))\n",
    "MLP.fit(xtrain, ytrain)\n",
    "pred_MLP = MLP.predict(xtest)\n",
    "acc_MLP = metrics.accuracy_score(ytest, pred_MLP)*100\n",
    "joblib.dump(MLP, 'model.pkl')\n",
    "\n",
    "print('8. Using MLP Method')\n",
    "print('Accuracy - {}'.format(acc_MLP))\n",
    "print('Recall - {}'.format(metrics.recall_score(ytest, pred_MLP)))\n",
    "print('Precision Score - {}'.format(metrics.precision_score(ytest, pred_MLP)))\n",
    "print('Confusion matrix')\n",
    "print(metrics.confusion_matrix(ytest, pred_MLP))\n",
    "print('\\n')\n",
    "time.sleep(1)"
   ]
  },
  {
   "cell_type": "code",
   "execution_count": 100,
   "metadata": {},
   "outputs": [
    {
     "data": {
      "image/png": "[encoded data removed]",
      "text/plain": [
       "<Figure size 432x288 with 1 Axes>"
      ]
     },
     "metadata": {
      "needs_background": "light"
     },
     "output_type": "display_data"
    }
   ],
   "source": [
    "import matplotlib.pyplot as plt\n",
    "\n",
    "#Defining labels and data\n",
    "height = [acc_rfc, acc_gb, acc_lr, acc_svm , acc_knn, acc_DT, acc_MLP]\n",
    "bars = ('RF', 'GB', 'LR', 'SVM', 'KNN', 'DT', 'MLP')\n",
    "y_pos = np.arange(len(bars))\n",
    " \n",
    "# Create bars and choose color\n",
    "plt.bar(y_pos, height, color = (1.00, 0.65, 0.00, 1.0))\n",
    " \n",
    "# Add Title and Axis names\n",
    "plt.title('Comparision Study')\n",
    "plt.xlabel('Algorithms')\n",
    "plt.ylabel('Accuracy')\n",
    " \n",
    "# Limits for the Y axis\n",
    "plt.ylim(0,100) \n",
    "# Create names\n",
    "plt.xticks(y_pos, bars) \n",
    "#Save the graphic\n",
    "plt.savefig('Comparison_Study')\n",
    "# Show graphic\n",
    "plt.show()"
   ]
  },
  {
   "cell_type": "code",
   "execution_count": null,
   "metadata": {},
   "outputs": [],
   "source": []
  }
 ],
 "metadata": {
  "kernelspec": {
   "display_name": "Python 3",
   "language": "python",
   "name": "python3"
  },
  "language_info": {
   "codemirror_mode": {
    "name": "ipython",
    "version": 3
   },
   "file_extension": ".py",
   "mimetype": "text/x-python",
   "name": "python",
   "nbconvert_exporter": "python",
   "pygments_lexer": "ipython3",
   "version": "3.7.3"
  }
 },
 "nbformat": 4,
 "nbformat_minor": 2
}
